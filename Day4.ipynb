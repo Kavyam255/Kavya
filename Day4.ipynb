{
 "cells": [
  {
   "cell_type": "code",
   "execution_count": 1,
   "id": "3687247f-e730-44f4-93fe-1174b7220a06",
   "metadata": {},
   "outputs": [
    {
     "name": "stdout",
     "output_type": "stream",
     "text": [
      "Has the student passed? True\n"
     ]
    }
   ],
   "source": [
    "score=75\n",
    "has_passed=(score>=60)\n",
    "print(\"Has the student passed?\",has_passed)\n"
   ]
  },
  {
   "cell_type": "code",
   "execution_count": 2,
   "id": "2165367c-ce92-4162-9619-57c7de665393",
   "metadata": {},
   "outputs": [
    {
     "data": {
      "text/plain": [
       "True"
      ]
     },
     "execution_count": 2,
     "metadata": {},
     "output_type": "execute_result"
    }
   ],
   "source": [
    "(score>=60)"
   ]
  },
  {
   "cell_type": "code",
   "execution_count": 3,
   "id": "8d5b674e-a36a-4d76-bd58-193167d7383d",
   "metadata": {},
   "outputs": [
    {
     "name": "stdout",
     "output_type": "stream",
     "text": [
      "a is cheaper\n"
     ]
    }
   ],
   "source": [
    "a=40\n",
    "b=50\n",
    "if(a<b):\n",
    "    print(\"a is cheaper\")\n",
    "else:\n",
    "    print(\"b is cheaper\")"
   ]
  },
  {
   "cell_type": "code",
   "execution_count": 4,
   "id": "fd704645-f004-4358-9e4c-9abd122832b1",
   "metadata": {},
   "outputs": [
    {
     "data": {
      "text/plain": [
       "False"
      ]
     },
     "execution_count": 4,
     "metadata": {},
     "output_type": "execute_result"
    }
   ],
   "source": [
    "3>2 and 4>5\n",
    "True and False"
   ]
  },
  {
   "cell_type": "code",
   "execution_count": 5,
   "id": "fda4c321-cd69-4bdf-b866-30ee69812a75",
   "metadata": {},
   "outputs": [
    {
     "data": {
      "text/plain": [
       "False"
      ]
     },
     "execution_count": 5,
     "metadata": {},
     "output_type": "execute_result"
    }
   ],
   "source": [
    "8>3 and 3>2\n",
    "True and False"
   ]
  },
  {
   "cell_type": "code",
   "execution_count": 6,
   "id": "18ac7ad5-d2a2-433d-9102-7047b103629d",
   "metadata": {},
   "outputs": [
    {
     "name": "stdout",
     "output_type": "stream",
     "text": [
      "1\n"
     ]
    }
   ],
   "source": [
    "a=5\n",
    "b=3\n",
    "result= a&b\n",
    "print(result)\n"
   ]
  },
  {
   "cell_type": "code",
   "execution_count": 7,
   "id": "0be5d211-64ae-49dd-9213-3867768303e4",
   "metadata": {},
   "outputs": [
    {
     "data": {
      "text/plain": [
       "4"
      ]
     },
     "execution_count": 7,
     "metadata": {},
     "output_type": "execute_result"
    }
   ],
   "source": [
    "5&6"
   ]
  },
  {
   "cell_type": "code",
   "execution_count": 8,
   "id": "35586852-b9a0-4e8a-abe5-138d4d2001e9",
   "metadata": {},
   "outputs": [
    {
     "name": "stdout",
     "output_type": "stream",
     "text": [
      "11\n"
     ]
    }
   ],
   "source": [
    "a=3\n",
    "b=9\n",
    "result= a|b\n",
    "print(result)"
   ]
  },
  {
   "cell_type": "code",
   "execution_count": 9,
   "id": "e563ce42-882e-4178-b53e-0ad8a711a534",
   "metadata": {},
   "outputs": [
    {
     "name": "stdout",
     "output_type": "stream",
     "text": [
      "True\n"
     ]
    }
   ],
   "source": [
    "#membership operator\n",
    "#in\n",
    "list=[1,2,3,4,5]\n",
    "print(3 in list)"
   ]
  },
  {
   "cell_type": "code",
   "execution_count": 10,
   "id": "ab83b384-a848-4567-9427-2a9228291152",
   "metadata": {},
   "outputs": [
    {
     "name": "stdout",
     "output_type": "stream",
     "text": [
      "False\n"
     ]
    }
   ],
   "source": [
    "str=[2,4,5,6,7]\n",
    "print(1 in str)"
   ]
  },
  {
   "cell_type": "code",
   "execution_count": 11,
   "id": "14e93ba5-6828-4875-bcac-2ff95ee233aa",
   "metadata": {},
   "outputs": [
    {
     "name": "stdout",
     "output_type": "stream",
     "text": [
      "True\n"
     ]
    }
   ],
   "source": [
    "#not in\n",
    "str=[1,3,2,4,5,8,9,6,7]\n",
    "print(1 in str)"
   ]
  },
  {
   "cell_type": "code",
   "execution_count": 12,
   "id": "b7bcd619-97e3-4278-9c42-d114f299dac0",
   "metadata": {},
   "outputs": [
    {
     "name": "stdout",
     "output_type": "stream",
     "text": [
      "True\n"
     ]
    }
   ],
   "source": [
    "str=\"hello\"\n",
    "print(\"python\" not in str)"
   ]
  },
  {
   "cell_type": "code",
   "execution_count": 13,
   "id": "2ef053d3-37e3-464f-81d1-dae689746334",
   "metadata": {},
   "outputs": [
    {
     "name": "stdout",
     "output_type": "stream",
     "text": [
      "True\n"
     ]
    }
   ],
   "source": [
    "\n",
    "fruit=[\"apple\",\"banana\",\"kiwi\"]\n",
    "print(\"grape\" not in fruit)"
   ]
  },
  {
   "cell_type": "code",
   "execution_count": 14,
   "id": "02395e1e-9550-4338-a150-ccc6e674fc9e",
   "metadata": {},
   "outputs": [
    {
     "name": "stdout",
     "output_type": "stream",
     "text": [
      "True\n"
     ]
    }
   ],
   "source": [
    "veggies=[\"tomato\",\"potato\",\"onion\",\"carrot\"]\n",
    "print(\"onion\" in veggies)"
   ]
  },
  {
   "cell_type": "code",
   "execution_count": 15,
   "id": "f30bc7fc-918f-4dc6-860e-5963ef3161a6",
   "metadata": {},
   "outputs": [
    {
     "name": "stdout",
     "output_type": "stream",
     "text": [
      "False\n"
     ]
    }
   ],
   "source": [
    "str=\"wlcm to python\"\n",
    "print(\"java\" in str)"
   ]
  },
  {
   "cell_type": "code",
   "execution_count": 16,
   "id": "1fe0b6e9-3d64-405c-8c05-ce8ad6283a25",
   "metadata": {},
   "outputs": [
    {
     "name": "stdout",
     "output_type": "stream",
     "text": [
      "True\n"
     ]
    }
   ],
   "source": [
    "str=\"welc0me to python\"\n",
    "print(\"java\" not in str)"
   ]
  },
  {
   "cell_type": "code",
   "execution_count": 17,
   "id": "ff1a6e4b-c761-4e96-8864-b1fd047a66f4",
   "metadata": {},
   "outputs": [
    {
     "name": "stdout",
     "output_type": "stream",
     "text": [
      "True\n"
     ]
    }
   ],
   "source": [
    "dict={\"name\":\"Alice\",\"age\":25,\"city\":\"Nwe York\"}\n",
    "print(\"name\" in dict)"
   ]
  },
  {
   "cell_type": "code",
   "execution_count": 18,
   "id": "f4387a8e-58e0-45d0-8f3f-0b35004c9d44",
   "metadata": {},
   "outputs": [
    {
     "name": "stdout",
     "output_type": "stream",
     "text": [
      "False\n"
     ]
    }
   ],
   "source": [
    "\n",
    "dict={\"name\":\"Alice\",\"age\":25,\"city\":\"Nwe York\"}\n",
    "print(\"Alice\" in dict)"
   ]
  },
  {
   "cell_type": "code",
   "execution_count": 19,
   "id": "5e7ee56c-4856-4499-a68a-1f67b8488407",
   "metadata": {},
   "outputs": [
    {
     "name": "stdout",
     "output_type": "stream",
     "text": [
      "True\n"
     ]
    }
   ],
   "source": [
    "dict={\"name\":\"Alice\",\"age\":25,\"city\":\"Nwe York\"}\n",
    "print(\"Alice\" not in dict)"
   ]
  },
  {
   "cell_type": "code",
   "execution_count": null,
   "id": "cdd1ce2e-2567-4875-a4b8-f0154cec700c",
   "metadata": {},
   "outputs": [],
   "source": []
  }
 ],
 "metadata": {
  "kernelspec": {
   "display_name": "Python 3 (ipykernel)",
   "language": "python",
   "name": "python3"
  },
  "language_info": {
   "codemirror_mode": {
    "name": "ipython",
    "version": 3
   },
   "file_extension": ".py",
   "mimetype": "text/x-python",
   "name": "python",
   "nbconvert_exporter": "python",
   "pygments_lexer": "ipython3",
   "version": "3.12.7"
  }
 },
 "nbformat": 4,
 "nbformat_minor": 5
}

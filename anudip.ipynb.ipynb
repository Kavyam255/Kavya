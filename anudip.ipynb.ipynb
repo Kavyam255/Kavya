{
 "cells": [
  {
   "cell_type": "code",
   "execution_count": 1,
   "id": "f6de24b5-419b-4810-ae6d-adec1b8e4463",
   "metadata": {},
   "outputs": [
    {
     "name": "stdout",
     "output_type": "stream",
     "text": [
      "hello world\n"
     ]
    }
   ],
   "source": [
    "print(\"hello world\")"
   ]
  },
  {
   "cell_type": "code",
   "execution_count": 2,
   "id": "9174d251-3e74-413e-91eb-84becd60314b",
   "metadata": {},
   "outputs": [
    {
     "name": "stdout",
     "output_type": "stream",
     "text": [
      "10 15\n"
     ]
    }
   ],
   "source": [
    "A=10\n",
    "a=15\n",
    "print(A,a)"
   ]
  },
  {
   "cell_type": "code",
   "execution_count": 3,
   "id": "79828032-615c-4f5a-a43e-ad8e7a9559dc",
   "metadata": {},
   "outputs": [
    {
     "name": "stdout",
     "output_type": "stream",
     "text": [
      "kavya\n"
     ]
    }
   ],
   "source": [
    "print('kavya')\n"
   ]
  },
  {
   "cell_type": "code",
   "execution_count": 4,
   "id": "3ae00baf-1463-47e4-bc0b-0ebf535ea127",
   "metadata": {},
   "outputs": [
    {
     "name": "stdout",
     "output_type": "stream",
     "text": [
      "4\n"
     ]
    }
   ],
   "source": [
    "print(4)"
   ]
  },
  {
   "cell_type": "code",
   "execution_count": 5,
   "id": "db560f30-ca42-4e7c-8228-49ff147de116",
   "metadata": {},
   "outputs": [
    {
     "name": "stdout",
     "output_type": "stream",
     "text": [
      "-0.97\n"
     ]
    }
   ],
   "source": [
    "print(-0.97)"
   ]
  },
  {
   "cell_type": "code",
   "execution_count": 6,
   "id": "d1f7da0c-f299-491f-ba11-c2c5b5fca375",
   "metadata": {},
   "outputs": [
    {
     "name": "stdout",
     "output_type": "stream",
     "text": [
      "hello-world\n"
     ]
    }
   ],
   "source": [
    "print('hello',end='-')\n",
    "print('world')"
   ]
  },
  {
   "cell_type": "code",
   "execution_count": 7,
   "id": "5c0dabe9-1a67-4dce-a75c-a7bdafa52e8b",
   "metadata": {},
   "outputs": [
    {
     "data": {
      "text/plain": [
       "float"
      ]
     },
     "execution_count": 7,
     "metadata": {},
     "output_type": "execute_result"
    }
   ],
   "source": [
    "a=56.8\n",
    "type(a)"
   ]
  },
  {
   "cell_type": "code",
   "execution_count": 8,
   "id": "e7b8e578-32e0-4407-b9ea-73735889b47f",
   "metadata": {},
   "outputs": [
    {
     "data": {
      "text/plain": [
       "complex"
      ]
     },
     "execution_count": 8,
     "metadata": {},
     "output_type": "execute_result"
    }
   ],
   "source": [
    "z=4+3j\n",
    "type(z)"
   ]
  },
  {
   "cell_type": "code",
   "execution_count": 9,
   "id": "21c4def2-c6ed-4e1a-b941-ceceb6aac03c",
   "metadata": {},
   "outputs": [
    {
     "data": {
      "text/plain": [
       "list"
      ]
     },
     "execution_count": 9,
     "metadata": {},
     "output_type": "execute_result"
    }
   ],
   "source": [
    "lis=[\"apple\",2,4,5]\n",
    "type(lis)"
   ]
  },
  {
   "cell_type": "code",
   "execution_count": 10,
   "id": "7bbde263-fc41-472e-9cbf-8aa415fac6f2",
   "metadata": {},
   "outputs": [
    {
     "data": {
      "text/plain": [
       "tuple"
      ]
     },
     "execution_count": 10,
     "metadata": {},
     "output_type": "execute_result"
    }
   ],
   "source": [
    "hi=(7,5)\n",
    "type(hi)"
   ]
  },
  {
   "cell_type": "code",
   "execution_count": 11,
   "id": "8b141742-4979-4666-948f-e08b5be2eb8b",
   "metadata": {},
   "outputs": [
    {
     "data": {
      "text/plain": [
       "tuple"
      ]
     },
     "execution_count": 11,
     "metadata": {},
     "output_type": "execute_result"
    }
   ],
   "source": [
    "kavya=(\"wait\",44,\"hello\")\n",
    "type(kavya)"
   ]
  },
  {
   "cell_type": "code",
   "execution_count": null,
   "id": "be7a0bde-e24f-4d85-98b3-6765cac5b1d3",
   "metadata": {},
   "outputs": [],
   "source": [
    "uni"
   ]
  }
 ],
 "metadata": {
  "kernelspec": {
   "display_name": "Python 3 (ipykernel)",
   "language": "python",
   "name": "python3"
  },
  "language_info": {
   "codemirror_mode": {
    "name": "ipython",
    "version": 3
   },
   "file_extension": ".py",
   "mimetype": "text/x-python",
   "name": "python",
   "nbconvert_exporter": "python",
   "pygments_lexer": "ipython3",
   "version": "3.12.7"
  }
 },
 "nbformat": 4,
 "nbformat_minor": 5
}

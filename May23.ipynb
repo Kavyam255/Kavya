{
 "cells": [
  {
   "cell_type": "code",
   "execution_count": 2,
   "id": "48be32a8-fd11-45bf-90c7-4680b12b11be",
   "metadata": {},
   "outputs": [
    {
     "name": "stdout",
     "output_type": "stream",
     "text": [
      "uniform Distribution [[0.6932225  0.81600326 0.56190765]\n",
      " [0.43632735 0.12959328 0.3409946 ]\n",
      " [0.10489511 0.8461078  0.4720311 ]]\n"
     ]
    }
   ],
   "source": [
    "import numpy as np\n",
    "uniform=np.random.rand(3,3)\n",
    "print(\"uniform Distribution\",uniform)"
   ]
  },
  {
   "cell_type": "code",
   "execution_count": 3,
   "id": "7aba8e1a-f698-470d-a06e-9e27498f1049",
   "metadata": {},
   "outputs": [
    {
     "data": {
      "text/plain": [
       "(array([3, 4], dtype=int64),)"
      ]
     },
     "execution_count": 3,
     "metadata": {},
     "output_type": "execute_result"
    }
   ],
   "source": [
    "arr=np.array([1,2,3,4,5])\n",
    "np.where(arr>3)"
   ]
  },
  {
   "cell_type": "code",
   "execution_count": 4,
   "id": "0d2363ab-65b4-4f9b-9171-b6cbcd144ac6",
   "metadata": {},
   "outputs": [
    {
     "name": "stdout",
     "output_type": "stream",
     "text": [
      "Where > 3: (array([3, 4], dtype=int64),)\n"
     ]
    }
   ],
   "source": [
    "print(\"Where > 3:\", np.where(arr > 3))"
   ]
  },
  {
   "cell_type": "code",
   "execution_count": 5,
   "id": "234ccf76-8777-4d71-bd5c-d02be680131d",
   "metadata": {},
   "outputs": [
    {
     "data": {
      "text/plain": [
       "4"
      ]
     },
     "execution_count": 5,
     "metadata": {},
     "output_type": "execute_result"
    }
   ],
   "source": [
    "np.argmax(arr)"
   ]
  },
  {
   "cell_type": "code",
   "execution_count": 6,
   "id": "61c6f41a-6725-4bdc-86d8-9e813e688ee1",
   "metadata": {},
   "outputs": [
    {
     "data": {
      "text/plain": [
       "3"
      ]
     },
     "execution_count": 6,
     "metadata": {},
     "output_type": "execute_result"
    }
   ],
   "source": [
    "sorted_arr=np.array([1,3,5,7])\n",
    "np.searchsorted(sorted_arr,6)"
   ]
  },
  {
   "cell_type": "code",
   "execution_count": 7,
   "id": "4981ec61-929d-4874-9516-b9515546b16d",
   "metadata": {},
   "outputs": [
    {
     "data": {
      "text/plain": [
       "array([4, 5])"
      ]
     },
     "execution_count": 7,
     "metadata": {},
     "output_type": "execute_result"
    }
   ],
   "source": [
    "arr=np.array([1,2,3,4,5])\n",
    "np.extract(arr>3,arr)"
   ]
  },
  {
   "cell_type": "code",
   "execution_count": 8,
   "id": "433e2d1a-7100-409a-b7e9-dda8b90dd2d6",
   "metadata": {},
   "outputs": [
    {
     "name": "stdout",
     "output_type": "stream",
     "text": [
      "Original:\n",
      " [[1 2 3]\n",
      " [4 5 6]]\n"
     ]
    }
   ],
   "source": [
    "matrix=np.array([[1,2,3],[4,5,6]])\n",
    "print(\"Original:\\n\",matrix)"
   ]
  },
  {
   "cell_type": "code",
   "execution_count": 9,
   "id": "8a9fb0ec-4592-4189-b6e7-5534ff2970ec",
   "metadata": {},
   "outputs": [
    {
     "name": "stdout",
     "output_type": "stream",
     "text": [
      "Transposed :\n",
      " [[1 4]\n",
      " [2 5]\n",
      " [3 6]]\n"
     ]
    }
   ],
   "source": [
    "print(\"Transposed :\\n\",np.transpose(matrix))"
   ]
  },
  {
   "cell_type": "code",
   "execution_count": 10,
   "id": "3017e64a-4bcf-4427-a378-59a6758b2db5",
   "metadata": {},
   "outputs": [
    {
     "name": "stdout",
     "output_type": "stream",
     "text": [
      "mean value:  3.0\n"
     ]
    }
   ],
   "source": [
    "#Mean Calculation\n",
    "arr=np.array([1,2,3,4,5])\n",
    "print(\"mean value: \",np.mean(arr))"
   ]
  },
  {
   "cell_type": "code",
   "execution_count": 11,
   "id": "8c3296d1-5aa2-4445-b3f2-470813b4f0f7",
   "metadata": {},
   "outputs": [
    {
     "data": {
      "text/plain": [
       "[array([1, 2]), array([3, 4]), array([5, 6])]"
      ]
     },
     "execution_count": 11,
     "metadata": {},
     "output_type": "execute_result"
    }
   ],
   "source": [
    "arr=np.array([1, 2, 3, 4, 5, 6])\n",
    "np.split(arr,3)"
   ]
  },
  {
   "cell_type": "code",
   "execution_count": 12,
   "id": "f849ff3a-ddb1-4e9f-bf7a-75abb6586e92",
   "metadata": {},
   "outputs": [
    {
     "data": {
      "text/plain": [
       "[array([[1],\n",
       "        [4]]),\n",
       " array([[2],\n",
       "        [5]]),\n",
       " array([[3],\n",
       "        [6]])]"
      ]
     },
     "execution_count": 12,
     "metadata": {},
     "output_type": "execute_result"
    }
   ],
   "source": [
    "matrix=np.array([[1,2,3],\n",
    "                 [4,5,6]])\n",
    "np.split(matrix,3,axis=1)"
   ]
  },
  {
   "cell_type": "code",
   "execution_count": 13,
   "id": "da216200-ef70-4bf7-a4a0-1446c9fb8e58",
   "metadata": {},
   "outputs": [
    {
     "data": {
      "text/plain": [
       "[array([[1, 2, 3]]), array([[4, 5, 6]])]"
      ]
     },
     "execution_count": 13,
     "metadata": {},
     "output_type": "execute_result"
    }
   ],
   "source": [
    "np.split(matrix,2,axis=0)"
   ]
  },
  {
   "cell_type": "code",
   "execution_count": 14,
   "id": "ad2491fe-3d27-4bcb-af48-3e3db959f6ed",
   "metadata": {},
   "outputs": [
    {
     "name": "stdout",
     "output_type": "stream",
     "text": [
      "Sorted copy : [1 2 4 5 7]\n"
     ]
    }
   ],
   "source": [
    "arr=np.array([2,7,1,4,5])\n",
    "print(\"Sorted copy :\" ,np.sort(arr))"
   ]
  },
  {
   "cell_type": "code",
   "execution_count": 15,
   "id": "c5d38a07-8417-4447-b679-40a6857130ac",
   "metadata": {},
   "outputs": [
    {
     "name": "stdout",
     "output_type": "stream",
     "text": [
      "sorted Rows:\n",
      " [[1 3 7]\n",
      " [4 5 6]]\n"
     ]
    }
   ],
   "source": [
    "matrix=np.array([[3,1,7],\n",
    "                 [6,5,4]])\n",
    "print(\"sorted Rows:\\n\", np.sort(matrix,axis=1))"
   ]
  },
  {
   "cell_type": "code",
   "execution_count": null,
   "id": "9b3b66ee-551e-44c1-8a8f-c8869c49d480",
   "metadata": {},
   "outputs": [],
   "source": []
  }
 ],
 "metadata": {
  "kernelspec": {
   "display_name": "Python 3 (ipykernel)",
   "language": "python",
   "name": "python3"
  },
  "language_info": {
   "codemirror_mode": {
    "name": "ipython",
    "version": 3
   },
   "file_extension": ".py",
   "mimetype": "text/x-python",
   "name": "python",
   "nbconvert_exporter": "python",
   "pygments_lexer": "ipython3",
   "version": "3.12.7"
  }
 },
 "nbformat": 4,
 "nbformat_minor": 5
}

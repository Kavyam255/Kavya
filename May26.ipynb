{
 "cells": [
  {
   "cell_type": "code",
   "execution_count": 1,
   "id": "ceb17280-b7be-442a-9704-2d45dd076e93",
   "metadata": {},
   "outputs": [
    {
     "data": {
      "text/plain": [
       "array([[1, 2],\n",
       "       [3, 4],\n",
       "       [5, 6]])"
      ]
     },
     "execution_count": 1,
     "metadata": {},
     "output_type": "execute_result"
    }
   ],
   "source": [
    "import numpy as np\n",
    "arr1=np.array([[1,2],[3,4]])\n",
    "arr2=np.array([[5,6]])\n",
    "np.concatenate((arr1,arr2),axis=0)"
   ]
  },
  {
   "cell_type": "code",
   "execution_count": 2,
   "id": "9700fc85-be68-4d96-acfd-946f2d64d0cb",
   "metadata": {},
   "outputs": [
    {
     "data": {
      "text/plain": [
       "array([[1, 2, 5, 6],\n",
       "       [3, 4, 3, 4]])"
      ]
     },
     "execution_count": 2,
     "metadata": {},
     "output_type": "execute_result"
    }
   ],
   "source": [
    "import numpy as np\n",
    "arr1=np.array([[1,2],[3,4]])\n",
    "arr2=np.array([[5,6],[3,4]])\n",
    "np.concatenate((arr1,arr2),axis=1)"
   ]
  },
  {
   "cell_type": "code",
   "execution_count": 3,
   "id": "5be90c48-3824-4380-b971-54b87391a702",
   "metadata": {},
   "outputs": [
    {
     "data": {
      "text/plain": [
       "array([[1, 2, 3],\n",
       "       [4, 5, 6]])"
      ]
     },
     "execution_count": 3,
     "metadata": {},
     "output_type": "execute_result"
    }
   ],
   "source": [
    "#vertical stack\n",
    "arr3=np.array([1,2,3])\n",
    "arr4=np.array([4,5,6])\n",
    "np.vstack((arr3,arr4))"
   ]
  },
  {
   "cell_type": "code",
   "execution_count": 4,
   "id": "17c85472-5984-4494-af5b-121f6df2892c",
   "metadata": {},
   "outputs": [
    {
     "data": {
      "text/plain": [
       "array([1, 2, 3, 4, 5, 6])"
      ]
     },
     "execution_count": 4,
     "metadata": {},
     "output_type": "execute_result"
    }
   ],
   "source": [
    "#horizontal stack\n",
    "arr1=np.array([1,2,3])\n",
    "arr2=np.array([4,5,6])\n",
    "np.hstack((arr1,arr2))"
   ]
  },
  {
   "cell_type": "code",
   "execution_count": 5,
   "id": "5135479a-dd49-41e5-99d1-82263e66eda9",
   "metadata": {},
   "outputs": [
    {
     "data": {
      "text/plain": [
       "array([False, False, False,  True,  True,  True])"
      ]
     },
     "execution_count": 5,
     "metadata": {},
     "output_type": "execute_result"
    }
   ],
   "source": [
    "#filter\n",
    "import numpy as np\n",
    "arr=np.array([1,2,3,4,5,6])\n",
    "mask=arr>3\n",
    "mask"
   ]
  },
  {
   "cell_type": "code",
   "execution_count": 6,
   "id": "40c9598b-39f0-45b7-ae5d-1d8743020186",
   "metadata": {},
   "outputs": [
    {
     "data": {
      "text/plain": [
       "array([4, 5, 6])"
      ]
     },
     "execution_count": 6,
     "metadata": {},
     "output_type": "execute_result"
    }
   ],
   "source": [
    "arr[mask]"
   ]
  },
  {
   "cell_type": "code",
   "execution_count": 7,
   "id": "a0609e1a-263a-4893-ad1e-2e38b8e2193b",
   "metadata": {},
   "outputs": [
    {
     "data": {
      "text/plain": [
       "array([False, False,  True,  True,  True, False])"
      ]
     },
     "execution_count": 7,
     "metadata": {},
     "output_type": "execute_result"
    }
   ],
   "source": [
    "import numpy as np\n",
    "arr=np.array([1,2,3,4,5,6])\n",
    "(arr>2) & (arr<6)"
   ]
  },
  {
   "cell_type": "code",
   "execution_count": 8,
   "id": "9a744dc6-f852-4d8d-826b-a37df0275031",
   "metadata": {},
   "outputs": [
    {
     "data": {
      "text/plain": [
       "array([3, 4, 5])"
      ]
     },
     "execution_count": 8,
     "metadata": {},
     "output_type": "execute_result"
    }
   ],
   "source": [
    "arr[(arr>2) & (arr<6)]"
   ]
  },
  {
   "cell_type": "code",
   "execution_count": 9,
   "id": "65c4fa80-8384-47b9-9d63-f190efd66549",
   "metadata": {},
   "outputs": [
    {
     "name": "stdout",
     "output_type": "stream",
     "text": [
      "Values>20: [25 30 30 40 50]\n"
     ]
    }
   ],
   "source": [
    "#filtering 2d array\n",
    "import numpy as np\n",
    "matrix=np.array([\n",
    "    [10,25,30],\n",
    "    [30,40,50]\n",
    "])\n",
    "print(\"Values>20:\",matrix[matrix>20])"
   ]
  },
  {
   "cell_type": "code",
   "execution_count": 10,
   "id": "9f29ee6d-72c1-454e-b1cf-aab8962ce550",
   "metadata": {},
   "outputs": [
    {
     "name": "stdout",
     "output_type": "stream",
     "text": [
      "values>90: [92 95 94]\n"
     ]
    }
   ],
   "source": [
    "scores=np.array([85,92,78,88,95,72,89,94,68,90])\n",
    "print(\"values>90:\",scores[scores>90])"
   ]
  },
  {
   "cell_type": "code",
   "execution_count": 12,
   "id": "2fa8a8dd-efb3-4461-85c7-c5816ac96793",
   "metadata": {},
   "outputs": [
    {
     "name": "stdout",
     "output_type": "stream",
     "text": [
      "even numbers are: [ 2  4  6  8 10 12 14]\n"
     ]
    }
   ],
   "source": [
    "num=np.array([1,2,3,4,5,6,7,8,9,10,11,12,13,14,15])\n",
    "even_num=num[num%2==0]\n",
    "print(\"even numbers are:\", even_num)"
   ]
  },
  {
   "cell_type": "code",
   "execution_count": 13,
   "id": "deb81cf4-7d78-4481-bb78-6715dec4578d",
   "metadata": {},
   "outputs": [
    {
     "name": "stdout",
     "output_type": "stream",
     "text": [
      "Divisible by 3 [ 3  6  9 12 15]\n"
     ]
    }
   ],
   "source": [
    "div_by_3 = num[num % 3 == 0]\n",
    "print(\"Divisible by 3\", div_by_3)"
   ]
  },
  {
   "cell_type": "code",
   "execution_count": 14,
   "id": "a026c7f3-bc70-46b5-b775-0bfc13529b1a",
   "metadata": {},
   "outputs": [
    {
     "name": "stdout",
     "output_type": "stream",
     "text": [
      "odd numbers are: [ 2  4  6  8 10 12 14]\n"
     ]
    }
   ],
   "source": [
    "odd_num=num[num%2==0]\n",
    "print(\"odd numbers are:\", odd_num)"
   ]
  },
  {
   "cell_type": "code",
   "execution_count": null,
   "id": "409552cf-de33-4742-8590-1da7f44351b7",
   "metadata": {},
   "outputs": [],
   "source": [
    "import numpy as np\n",
    "temp = np.array([22.5, 19.0, 25.6, 21.4, 29.9, 18.6, 23.1, 27.0])\n",
    "\n",
    "print(\"Temperature above 24:\", temp[temp > 24])\n",
    "print(\"Temperature between 20 and 26:\", temp[(temp > 20) & (temp < 26)])"
   ]
  },
  {
   "cell_type": "code",
   "execution_count": null,
   "id": "0232dfff-ea74-4225-8522-31ad0ae31d28",
   "metadata": {},
   "outputs": [],
   "source": []
  }
 ],
 "metadata": {
  "kernelspec": {
   "display_name": "Python 3 (ipykernel)",
   "language": "python",
   "name": "python3"
  },
  "language_info": {
   "codemirror_mode": {
    "name": "ipython",
    "version": 3
   },
   "file_extension": ".py",
   "mimetype": "text/x-python",
   "name": "python",
   "nbconvert_exporter": "python",
   "pygments_lexer": "ipython3",
   "version": "3.12.7"
  }
 },
 "nbformat": 4,
 "nbformat_minor": 5
}

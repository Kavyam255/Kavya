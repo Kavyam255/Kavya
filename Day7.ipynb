{
 "cells": [
  {
   "cell_type": "code",
   "execution_count": 1,
   "id": "6d7a51a7-de9d-4c59-9fa3-c52ecfca3d2f",
   "metadata": {},
   "outputs": [
    {
     "name": "stdout",
     "output_type": "stream",
     "text": [
      "[4, 5, 8, 12]\n"
     ]
    }
   ],
   "source": [
    "mutable_list=[4,5,8,12]\n",
    "print(mutable_list)\n"
   ]
  },
  {
   "cell_type": "code",
   "execution_count": 2,
   "id": "66fa9d04-8285-43bb-86a2-8ab2932c572b",
   "metadata": {},
   "outputs": [
    {
     "data": {
      "text/plain": [
       "12"
      ]
     },
     "execution_count": 2,
     "metadata": {},
     "output_type": "execute_result"
    }
   ],
   "source": [
    "mutable_list[3]"
   ]
  },
  {
   "cell_type": "code",
   "execution_count": 4,
   "id": "ec955088-596c-44b7-b6f5-f341518bbcb1",
   "metadata": {},
   "outputs": [
    {
     "name": "stdout",
     "output_type": "stream",
     "text": [
      "[4, 5, 8, 16]\n"
     ]
    }
   ],
   "source": [
    "mutable_list[3]=16\n",
    "print(mutable_list)"
   ]
  },
  {
   "cell_type": "code",
   "execution_count": 5,
   "id": "a778d006-5061-4314-a6fd-42c576fb5548",
   "metadata": {},
   "outputs": [
    {
     "name": "stdout",
     "output_type": "stream",
     "text": [
      "[42, 'heelo', 3, 7, 58]\n"
     ]
    }
   ],
   "source": [
    "hetrogeneous_list=[42,'heelo',3,7,58]\n",
    "print(hetrogeneous_list)"
   ]
  },
  {
   "cell_type": "code",
   "execution_count": 6,
   "id": "2f93c301-e16e-4d2a-adbf-778c27779894",
   "metadata": {},
   "outputs": [
    {
     "data": {
      "text/plain": [
       "3"
      ]
     },
     "execution_count": 6,
     "metadata": {},
     "output_type": "execute_result"
    }
   ],
   "source": [
    "hetrogeneous_list[2]"
   ]
  },
  {
   "cell_type": "code",
   "execution_count": 7,
   "id": "2a4516df-735a-41d2-8c4f-cc6d91f7fd24",
   "metadata": {},
   "outputs": [
    {
     "name": "stdout",
     "output_type": "stream",
     "text": [
      "[42, 'heelo', 5, 7, 58]\n"
     ]
    }
   ],
   "source": [
    "hetrogeneous_list[2]=5\n",
    "print(hetrogeneous_list)"
   ]
  },
  {
   "cell_type": "code",
   "execution_count": 8,
   "id": "e47a0fd1-3097-4117-bbba-00dd9c5ca180",
   "metadata": {},
   "outputs": [
    {
     "name": "stdout",
     "output_type": "stream",
     "text": [
      "[1, 'hello', 8.0, True]\n"
     ]
    }
   ],
   "source": [
    "my_list=[1,'hello',8.0,True]\n",
    "print(my_list)"
   ]
  },
  {
   "cell_type": "code",
   "execution_count": 9,
   "id": "bf33693d-125f-477e-be99-a47b28fa4e97",
   "metadata": {},
   "outputs": [
    {
     "name": "stdout",
     "output_type": "stream",
     "text": [
      "array('i', [1, 2, 3, 4])\n"
     ]
    }
   ],
   "source": [
    "import array\n",
    "my_array=array.array('i',[1,2,3,4])\n",
    "print(my_array)"
   ]
  },
  {
   "cell_type": "code",
   "execution_count": 10,
   "id": "8559ec16-d31b-41f4-ba8d-6b0fdf52b58a",
   "metadata": {},
   "outputs": [
    {
     "name": "stdout",
     "output_type": "stream",
     "text": [
      "banana\n",
      "apple\n"
     ]
    }
   ],
   "source": [
    "fruits=['apple','banana','cherry','mango','grapes','goa']\n",
    "print(fruits[1])\n",
    "print(fruits[0])"
   ]
  },
  {
   "cell_type": "code",
   "execution_count": 11,
   "id": "4c3d2f1d-1596-45cb-ad68-a16317fbce03",
   "metadata": {},
   "outputs": [
    {
     "name": "stdout",
     "output_type": "stream",
     "text": [
      "goa\n",
      "cherry\n"
     ]
    }
   ],
   "source": [
    "print(fruits[-1])\n",
    "print(fruits[-4])"
   ]
  },
  {
   "cell_type": "code",
   "execution_count": null,
   "id": "807b238e-a446-482b-ab03-28c133dc4ac2",
   "metadata": {},
   "outputs": [],
   "source": []
  }
 ],
 "metadata": {
  "kernelspec": {
   "display_name": "Python 3 (ipykernel)",
   "language": "python",
   "name": "python3"
  },
  "language_info": {
   "codemirror_mode": {
    "name": "ipython",
    "version": 3
   },
   "file_extension": ".py",
   "mimetype": "text/x-python",
   "name": "python",
   "nbconvert_exporter": "python",
   "pygments_lexer": "ipython3",
   "version": "3.12.7"
  }
 },
 "nbformat": 4,
 "nbformat_minor": 5
}

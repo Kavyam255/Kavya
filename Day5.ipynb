{
 "cells": [
  {
   "cell_type": "code",
   "execution_count": 1,
   "id": "61612399-c9ba-4f7a-8ca6-d1b7f333cd83",
   "metadata": {},
   "outputs": [
    {
     "name": "stdin",
     "output_type": "stream",
     "text": [
      " c-\n"
     ]
    },
    {
     "name": "stdout",
     "output_type": "stream",
     "text": [
      "Weak Password\n"
     ]
    }
   ],
   "source": [
    "password=input()\n",
    "if len(password) < 6:\n",
    "    print(\"Weak Password\")\n",
    "elif 6 <= len(password) <= 8:\n",
    "    print(\"Moderate Password\")\n",
    "else:\n",
    "    print(\"Strong Password\")"
   ]
  },
  {
   "cell_type": "code",
   "execution_count": 2,
   "id": "5ce32c28-f243-44ac-88fe-74ca4ec4ccd3",
   "metadata": {},
   "outputs": [
    {
     "name": "stdout",
     "output_type": "stream",
     "text": [
      "1\n",
      "2\n",
      "3\n",
      "4\n",
      "5\n",
      "6\n",
      "7\n"
     ]
    }
   ],
   "source": [
    "#for loop\n",
    "a=[1,2,3,4,5,6,7]\n",
    "for i in a:\n",
    "    print(i)"
   ]
  },
  {
   "cell_type": "code",
   "execution_count": 3,
   "id": "3695c399-5ccf-438d-af63-44fe6f831334",
   "metadata": {},
   "outputs": [
    {
     "name": "stdout",
     "output_type": "stream",
     "text": [
      "apple\n",
      "banana\n",
      "cherry\n"
     ]
    }
   ],
   "source": [
    "fruits=['apple','banana','cherry']\n",
    "for fruits in fruits:\n",
    "    print(fruits)"
   ]
  },
  {
   "cell_type": "code",
   "execution_count": 4,
   "id": "b2fd94b1-c264-4176-aad7-ada5d72e81e0",
   "metadata": {},
   "outputs": [
    {
     "name": "stdout",
     "output_type": "stream",
     "text": [
      "h\n",
      "e\n",
      "l\n",
      "l\n",
      "o\n"
     ]
    }
   ],
   "source": [
    "word=\"hello\"\n",
    "for i in word:\n",
    "    print(i)"
   ]
  },
  {
   "cell_type": "code",
   "execution_count": 5,
   "id": "a25e746b-f484-4814-a62d-82b2ecbb8243",
   "metadata": {},
   "outputs": [
    {
     "name": "stdout",
     "output_type": "stream",
     "text": [
      "1\n",
      "4\n",
      "7\n"
     ]
    }
   ],
   "source": [
    "for i in range(1,10,3):\n",
    "    print(i)"
   ]
  },
  {
   "cell_type": "code",
   "execution_count": 6,
   "id": "33ceceef-b82b-4055-9755-c658c14fa5e6",
   "metadata": {},
   "outputs": [
    {
     "name": "stdout",
     "output_type": "stream",
     "text": [
      "1\n",
      "2\n",
      "3\n",
      "4\n",
      "5\n",
      "6\n",
      "7\n",
      "loop is finished\n"
     ]
    }
   ],
   "source": [
    "#looping with else\n",
    "for i in a:\n",
    "    print(i)\n",
    "else:print(\"loop is finished\")"
   ]
  },
  {
   "cell_type": "code",
   "execution_count": 7,
   "id": "74858c32-850d-4160-be00-274bda35502c",
   "metadata": {},
   "outputs": [
    {
     "name": "stdout",
     "output_type": "stream",
     "text": [
      "i=0,j=0\n",
      "i=0,j=1\n",
      "i=1,j=0\n",
      "i=1,j=1\n",
      "i=2,j=0\n",
      "i=2,j=1\n"
     ]
    }
   ],
   "source": [
    "for i in range(3):\n",
    "    for j in range(2):\n",
    "        print(f\"i={i},j={j}\") "
   ]
  },
  {
   "cell_type": "code",
   "execution_count": 8,
   "id": "022914a3-fbab-44eb-812e-232eff04eea8",
   "metadata": {},
   "outputs": [
    {
     "name": "stdout",
     "output_type": "stream",
     "text": [
      "0 0\n",
      "0 1\n",
      "1 0\n",
      "1 1\n",
      "2 0\n",
      "2 1\n"
     ]
    }
   ],
   "source": [
    "for i in range(3):\n",
    "    for j in range(2):\n",
    "        print(i,j)"
   ]
  },
  {
   "cell_type": "code",
   "execution_count": 9,
   "id": "49473a01-1e43-489b-9589-900c980c8849",
   "metadata": {},
   "outputs": [
    {
     "name": "stdout",
     "output_type": "stream",
     "text": [
      "my name is kavya\n"
     ]
    }
   ],
   "source": [
    "name='kavya'\n",
    "print(f'my name is {name}')"
   ]
  },
  {
   "cell_type": "code",
   "execution_count": 10,
   "id": "d9fd642f-797a-48d7-a1e9-6cf163c0a5d3",
   "metadata": {},
   "outputs": [
    {
     "name": "stdout",
     "output_type": "stream",
     "text": [
      "outer\n",
      "inner loop\n",
      "inner loop\n",
      "outer\n",
      "inner loop\n",
      "inner loop\n",
      "outer\n",
      "inner loop\n",
      "inner loop\n",
      "outer\n",
      "inner loop\n",
      "inner loop\n"
     ]
    }
   ],
   "source": [
    "for i in range(4):\n",
    "    print(\"outer\")\n",
    "    for j in range(2):\n",
    "        print(\"inner loop\")"
   ]
  },
  {
   "cell_type": "code",
   "execution_count": 11,
   "id": "95b83c23-e839-4954-a6fa-b72525b6fe60",
   "metadata": {},
   "outputs": [
    {
     "name": "stdout",
     "output_type": "stream",
     "text": [
      "0\n",
      "This is will be 1st\n",
      "second\n",
      "third\n",
      "1\n",
      "This is will be 1st\n",
      "second\n",
      "third\n",
      "2\n",
      "This is will be 1st\n",
      "second\n",
      "third\n"
     ]
    }
   ],
   "source": [
    "for i in range(3):\n",
    "    print(i)\n",
    "    print(\"This is will be 1st\")\n",
    "    print(\"second\")\n",
    "    print(\"third\")"
   ]
  },
  {
   "cell_type": "code",
   "execution_count": 12,
   "id": "b4c5a0a2-c2b3-43f5-916f-ff5dc78c4cb7",
   "metadata": {},
   "outputs": [
    {
     "name": "stdout",
     "output_type": "stream",
     "text": [
      "0 = h\n",
      "1 = e\n",
      "2 = l\n",
      "3 = l\n",
      "4 = o\n"
     ]
    }
   ],
   "source": [
    "s=\"hello\"\n",
    "r=len(s)\n",
    "for i in range(r):\n",
    "    print(i,\"=\", s[i])"
   ]
  },
  {
   "cell_type": "code",
   "execution_count": 13,
   "id": "801cc919-b545-4e2a-9b33-4fb4ee870ed4",
   "metadata": {},
   "outputs": [
    {
     "name": "stdout",
     "output_type": "stream",
     "text": [
      "0 = h\n",
      "1 = e\n",
      "2 = l\n",
      "3 = l\n",
      "4 = o\n",
      "rest of the code\n"
     ]
    }
   ],
   "source": [
    "s=\"hello\"\n",
    "r=len(s)\n",
    "for i in range(r):\n",
    "    print(i,\"=\", s[i])\n",
    "print(\"rest of the code\")"
   ]
  },
  {
   "cell_type": "code",
   "execution_count": 14,
   "id": "bc735ecb-f051-49d7-9754-7ae93b794f6a",
   "metadata": {},
   "outputs": [
    {
     "name": "stdout",
     "output_type": "stream",
     "text": [
      "0\n",
      "1\n",
      "2\n",
      "3\n",
      "4\n"
     ]
    }
   ],
   "source": [
    "#BREAK\n",
    "\n",
    "for num in range(10):\n",
    "    if num == 5:\n",
    "      break  \n",
    "    print(num)"
   ]
  },
  {
   "cell_type": "code",
   "execution_count": 15,
   "id": "bdde3f08-b1bb-4fb8-b7dd-e2322d331878",
   "metadata": {},
   "outputs": [
    {
     "name": "stdout",
     "output_type": "stream",
     "text": [
      "0\n",
      "1\n",
      "2\n",
      "3\n",
      "4\n",
      "6\n",
      "7\n",
      "8\n",
      "9\n"
     ]
    }
   ],
   "source": [
    "#CONTINUE\n",
    "for num in range(10):\n",
    "    if num == 5:\n",
    "      continue \n",
    "    print(num)"
   ]
  },
  {
   "cell_type": "code",
   "execution_count": null,
   "id": "4fae58f3-6d56-4cb2-aac6-adc0e09b685c",
   "metadata": {},
   "outputs": [],
   "source": []
  }
 ],
 "metadata": {
  "kernelspec": {
   "display_name": "Python 3 (ipykernel)",
   "language": "python",
   "name": "python3"
  },
  "language_info": {
   "codemirror_mode": {
    "name": "ipython",
    "version": 3
   },
   "file_extension": ".py",
   "mimetype": "text/x-python",
   "name": "python",
   "nbconvert_exporter": "python",
   "pygments_lexer": "ipython3",
   "version": "3.12.7"
  }
 },
 "nbformat": 4,
 "nbformat_minor": 5
}

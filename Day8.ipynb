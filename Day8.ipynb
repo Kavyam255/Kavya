{
 "cells": [
  {
   "cell_type": "code",
   "execution_count": 1,
   "id": "f8dfa286-e853-4a8e-a6a2-a48b595085fa",
   "metadata": {},
   "outputs": [
    {
     "name": "stdout",
     "output_type": "stream",
     "text": [
      "hello\n"
     ]
    }
   ],
   "source": [
    "print(\"hello\")"
   ]
  },
  {
   "cell_type": "code",
   "execution_count": 2,
   "id": "5140af0b-6faf-451c-8fc7-45cebaad26b2",
   "metadata": {},
   "outputs": [
    {
     "name": "stdout",
     "output_type": "stream",
     "text": [
      "p\n",
      "y\n",
      "t\n",
      "h\n",
      "o\n",
      "n\n"
     ]
    }
   ],
   "source": [
    "#loop operation string in python\n",
    "text=\"python\"\n",
    "for char in text:\n",
    "    print(char)"
   ]
  },
  {
   "cell_type": "code",
   "execution_count": 3,
   "id": "3f74acc6-4d1e-46f4-9968-6327ee170960",
   "metadata": {},
   "outputs": [
    {
     "data": {
      "text/plain": [
       "True"
      ]
     },
     "execution_count": 3,
     "metadata": {},
     "output_type": "execute_result"
    }
   ],
   "source": [
    "text=\"Hello, World\"\n",
    "\"W\" in text"
   ]
  },
  {
   "cell_type": "code",
   "execution_count": 4,
   "id": "4a7de824-f559-43aa-a12f-962d99e82992",
   "metadata": {},
   "outputs": [
    {
     "data": {
      "text/plain": [
       "False"
      ]
     },
     "execution_count": 4,
     "metadata": {},
     "output_type": "execute_result"
    }
   ],
   "source": [
    "text=\"Hello, World\"\n",
    "\"W\" not in text"
   ]
  },
  {
   "cell_type": "code",
   "execution_count": 5,
   "id": "9b9432ec-63bd-44fe-9924-482abcc3741c",
   "metadata": {},
   "outputs": [
    {
     "name": "stdout",
     "output_type": "stream",
     "text": [
      "False\n"
     ]
    }
   ],
   "source": [
    "text=\"Hello, World\"\n",
    "result=\"Hello\" not in text\n",
    "print(result)"
   ]
  },
  {
   "cell_type": "code",
   "execution_count": 6,
   "id": "24a033b1-c480-4041-914f-017ee9b984d7",
   "metadata": {},
   "outputs": [
    {
     "data": {
      "text/plain": [
       "True"
      ]
     },
     "execution_count": 6,
     "metadata": {},
     "output_type": "execute_result"
    }
   ],
   "source": [
    "str=\"collection\"\n",
    "\"collection\" in str"
   ]
  },
  {
   "cell_type": "code",
   "execution_count": 7,
   "id": "77d937e2-f45f-4f62-a6ab-b4bf4a5861cb",
   "metadata": {},
   "outputs": [
    {
     "data": {
      "text/plain": [
       "False"
      ]
     },
     "execution_count": 7,
     "metadata": {},
     "output_type": "execute_result"
    }
   ],
   "source": [
    "str=\"ordered\"\n",
    "\"ordered\" not in str"
   ]
  },
  {
   "cell_type": "code",
   "execution_count": 8,
   "id": "a89c2204-55aa-47d1-8537-cb2d624ab76d",
   "metadata": {},
   "outputs": [
    {
     "data": {
      "text/plain": [
       "True"
      ]
     },
     "execution_count": 8,
     "metadata": {},
     "output_type": "execute_result"
    }
   ],
   "source": [
    "text=\"duplicate\"\n",
    "\"duplicate\" in text\n"
   ]
  },
  {
   "cell_type": "code",
   "execution_count": 9,
   "id": "1d46aea8-5616-4f38-b55f-71db63b266e7",
   "metadata": {},
   "outputs": [
    {
     "data": {
      "text/plain": [
       "True"
      ]
     },
     "execution_count": 9,
     "metadata": {},
     "output_type": "execute_result"
    }
   ],
   "source": [
    "str=\"\"\"List is a collection which is ordered and changeable. Allows duplicate members.\n",
    "Tuple is a collection which is ordered and unchangeable. Allows duplicate members.\n",
    "Set is a collection which is unordered, unchangeable*, and unindexed. No duplicate members.\n",
    "Dictionary is a collection which is ordered** and changeable. No duplicate members.\"\"\"\n",
    "\"ordered\" in str\n",
    "\"duplicate\" in str\n",
    "\"collection\" in str"
   ]
  },
  {
   "cell_type": "code",
   "execution_count": 10,
   "id": "34bb2486-0fa7-4f16-a356-b3b57a9735f5",
   "metadata": {},
   "outputs": [
    {
     "data": {
      "text/plain": [
       "'hello Python Python'"
      ]
     },
     "execution_count": 10,
     "metadata": {},
     "output_type": "execute_result"
    }
   ],
   "source": [
    "str=\"hello world world\"\n",
    "str.replace('world','Python')"
   ]
  },
  {
   "cell_type": "code",
   "execution_count": 11,
   "id": "661059be-00cf-499c-9181-7a0252e778c9",
   "metadata": {},
   "outputs": [
    {
     "data": {
      "text/plain": [
       "['hello']"
      ]
     },
     "execution_count": 11,
     "metadata": {},
     "output_type": "execute_result"
    }
   ],
   "source": [
    "str=\"hello\"\n",
    "str.split(\" \")"
   ]
  },
  {
   "cell_type": "code",
   "execution_count": 12,
   "id": "01ae9ae3-46c6-4b6c-a409-cb079c023a5a",
   "metadata": {},
   "outputs": [
    {
     "data": {
      "text/plain": [
       "['hello  ', 'world world']"
      ]
     },
     "execution_count": 12,
     "metadata": {},
     "output_type": "execute_result"
    }
   ],
   "source": [
    "str=\"hello  ,world world\"\n",
    "str.split(',')  #used for sentiment analysis"
   ]
  },
  {
   "cell_type": "code",
   "execution_count": null,
   "id": "3160badd-2149-45c8-8d2f-82bd9b35f918",
   "metadata": {},
   "outputs": [],
   "source": []
  }
 ],
 "metadata": {
  "kernelspec": {
   "display_name": "Python 3 (ipykernel)",
   "language": "python",
   "name": "python3"
  },
  "language_info": {
   "codemirror_mode": {
    "name": "ipython",
    "version": 3
   },
   "file_extension": ".py",
   "mimetype": "text/x-python",
   "name": "python",
   "nbconvert_exporter": "python",
   "pygments_lexer": "ipython3",
   "version": "3.12.7"
  }
 },
 "nbformat": 4,
 "nbformat_minor": 5
}
